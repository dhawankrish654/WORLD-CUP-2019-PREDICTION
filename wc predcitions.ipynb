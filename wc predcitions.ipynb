{
 "cells": [
  {
   "cell_type": "code",
   "execution_count": 1,
   "metadata": {},
   "outputs": [],
   "source": [
    "import pandas as pd\n",
    "\n",
    "import numpy as np\n",
    "import matplotlib.pyplot as plt\n",
    "r\n",
    "from sklearn.model_selection import train_test_split\n",
    "from sklearn.ensemble import RandomForestClassifier\n",
    "from sklearn.datasets import make_classification"
   ]
  },
  {
   "cell_type": "code",
   "execution_count": 107,
   "metadata": {},
   "outputs": [
    {
     "data": {
      "text/plain": [
       "Index(['date', 'Team_1', 'Team_2', 'Winner', 'Margin', 'Ground'], dtype='object')"
      ]
     },
     "execution_count": 107,
     "metadata": {},
     "output_type": "execute_result"
    }
   ],
   "source": [
    "df=pd.read_csv('C:/Users/Sachin Mishra/Desktop/results.csv')\n",
    "df.columns"
   ]
  },
  {
   "cell_type": "code",
   "execution_count": 3,
   "metadata": {},
   "outputs": [
    {
     "data": {
      "text/html": [
       "<div>\n",
       "<style scoped>\n",
       "    .dataframe tbody tr th:only-of-type {\n",
       "        vertical-align: middle;\n",
       "    }\n",
       "\n",
       "    .dataframe tbody tr th {\n",
       "        vertical-align: top;\n",
       "    }\n",
       "\n",
       "    .dataframe thead th {\n",
       "        text-align: right;\n",
       "    }\n",
       "</style>\n",
       "<table border=\"1\" class=\"dataframe\">\n",
       "  <thead>\n",
       "    <tr style=\"text-align: right;\">\n",
       "      <th></th>\n",
       "      <th>Team_1</th>\n",
       "      <th>Team_2</th>\n",
       "      <th>Winner</th>\n",
       "    </tr>\n",
       "  </thead>\n",
       "  <tbody>\n",
       "    <tr>\n",
       "      <th>0</th>\n",
       "      <td>Bangladesh</td>\n",
       "      <td>Sri Lanka</td>\n",
       "      <td>Sri Lanka</td>\n",
       "    </tr>\n",
       "    <tr>\n",
       "      <th>1</th>\n",
       "      <td>India</td>\n",
       "      <td>Sri Lanka</td>\n",
       "      <td>Sri Lanka</td>\n",
       "    </tr>\n",
       "    <tr>\n",
       "      <th>2</th>\n",
       "      <td>Bangladesh</td>\n",
       "      <td>India</td>\n",
       "      <td>India</td>\n",
       "    </tr>\n",
       "    <tr>\n",
       "      <th>3</th>\n",
       "      <td>Bangladesh</td>\n",
       "      <td>Sri Lanka</td>\n",
       "      <td>Sri Lanka</td>\n",
       "    </tr>\n",
       "    <tr>\n",
       "      <th>4</th>\n",
       "      <td>India</td>\n",
       "      <td>Sri Lanka</td>\n",
       "      <td>India</td>\n",
       "    </tr>\n",
       "  </tbody>\n",
       "</table>\n",
       "</div>"
      ],
      "text/plain": [
       "       Team_1     Team_2     Winner\n",
       "0  Bangladesh  Sri Lanka  Sri Lanka\n",
       "1       India  Sri Lanka  Sri Lanka\n",
       "2  Bangladesh      India      India\n",
       "3  Bangladesh  Sri Lanka  Sri Lanka\n",
       "4       India  Sri Lanka      India"
      ]
     },
     "execution_count": 3,
     "metadata": {},
     "output_type": "execute_result"
    }
   ],
   "source": [
    "df=df.drop(['date','Margin', 'Ground'], axis=1)\n",
    "df.head()"
   ]
  },
  {
   "cell_type": "code",
   "execution_count": 4,
   "metadata": {},
   "outputs": [
    {
     "data": {
      "text/html": [
       "<div>\n",
       "<style scoped>\n",
       "    .dataframe tbody tr th:only-of-type {\n",
       "        vertical-align: middle;\n",
       "    }\n",
       "\n",
       "    .dataframe tbody tr th {\n",
       "        vertical-align: top;\n",
       "    }\n",
       "\n",
       "    .dataframe thead th {\n",
       "        text-align: right;\n",
       "    }\n",
       "</style>\n",
       "<table border=\"1\" class=\"dataframe\">\n",
       "  <thead>\n",
       "    <tr style=\"text-align: right;\">\n",
       "      <th></th>\n",
       "      <th>Team_1</th>\n",
       "      <th>Team_2</th>\n",
       "      <th>Winner</th>\n",
       "    </tr>\n",
       "  </thead>\n",
       "  <tbody>\n",
       "    <tr>\n",
       "      <th>0</th>\n",
       "      <td>Bangladesh</td>\n",
       "      <td>Sri Lanka</td>\n",
       "      <td>Sri Lanka</td>\n",
       "    </tr>\n",
       "    <tr>\n",
       "      <th>1</th>\n",
       "      <td>India</td>\n",
       "      <td>Sri Lanka</td>\n",
       "      <td>Sri Lanka</td>\n",
       "    </tr>\n",
       "    <tr>\n",
       "      <th>2</th>\n",
       "      <td>Bangladesh</td>\n",
       "      <td>India</td>\n",
       "      <td>India</td>\n",
       "    </tr>\n",
       "    <tr>\n",
       "      <th>3</th>\n",
       "      <td>Bangladesh</td>\n",
       "      <td>Sri Lanka</td>\n",
       "      <td>Sri Lanka</td>\n",
       "    </tr>\n",
       "    <tr>\n",
       "      <th>4</th>\n",
       "      <td>India</td>\n",
       "      <td>Sri Lanka</td>\n",
       "      <td>India</td>\n",
       "    </tr>\n",
       "  </tbody>\n",
       "</table>\n",
       "</div>"
      ],
      "text/plain": [
       "       Team_1     Team_2     Winner\n",
       "0  Bangladesh  Sri Lanka  Sri Lanka\n",
       "1       India  Sri Lanka  Sri Lanka\n",
       "2  Bangladesh      India      India\n",
       "3  Bangladesh  Sri Lanka  Sri Lanka\n",
       "4       India  Sri Lanka      India"
      ]
     },
     "execution_count": 4,
     "metadata": {},
     "output_type": "execute_result"
    }
   ],
   "source": [
    "df = df.reset_index(drop=True)\n",
    "df.loc[df.Winner == df.Team_1,'winning_team']=1\n",
    "df.loc[df.Winner == df.Team_2, 'winning_team']=2\n",
    "df = df.drop(['winning_team'], axis=1)\n",
    "\n",
    "df.head()"
   ]
  },
  {
   "cell_type": "code",
   "execution_count": 5,
   "metadata": {},
   "outputs": [],
   "source": [
    "final = pd.get_dummies(df, prefix=['Team_1', 'Team_2'], columns=['Team_1', 'Team_2'])\n",
    "\n",
    "# Separate X and y sets\n",
    "X = final.drop(['Winner'], axis=1)\n",
    "y = final[\"Winner\"]\n",
    "\n",
    "\n",
    "# Separate train and test sets\n",
    "X_train, X_test, y_train, y_test = train_test_split(X, y, test_size=0.30, random_state=42)"
   ]
  },
  {
   "cell_type": "code",
   "execution_count": 6,
   "metadata": {},
   "outputs": [
    {
     "data": {
      "text/html": [
       "<div>\n",
       "<style scoped>\n",
       "    .dataframe tbody tr th:only-of-type {\n",
       "        vertical-align: middle;\n",
       "    }\n",
       "\n",
       "    .dataframe tbody tr th {\n",
       "        vertical-align: top;\n",
       "    }\n",
       "\n",
       "    .dataframe thead th {\n",
       "        text-align: right;\n",
       "    }\n",
       "</style>\n",
       "<table border=\"1\" class=\"dataframe\">\n",
       "  <thead>\n",
       "    <tr style=\"text-align: right;\">\n",
       "      <th></th>\n",
       "      <th>Winner</th>\n",
       "      <th>Team_1_Afghanistan</th>\n",
       "      <th>Team_1_Australia</th>\n",
       "      <th>Team_1_Bangladesh</th>\n",
       "      <th>Team_1_Canada</th>\n",
       "      <th>Team_1_England</th>\n",
       "      <th>Team_1_Hong Kong</th>\n",
       "      <th>Team_1_India</th>\n",
       "      <th>Team_1_Ireland</th>\n",
       "      <th>Team_1_Kenya</th>\n",
       "      <th>...</th>\n",
       "      <th>Team_2_Netherlands</th>\n",
       "      <th>Team_2_New Zealand</th>\n",
       "      <th>Team_2_P.N.G.</th>\n",
       "      <th>Team_2_Pakistan</th>\n",
       "      <th>Team_2_Scotland</th>\n",
       "      <th>Team_2_South Africa</th>\n",
       "      <th>Team_2_Sri Lanka</th>\n",
       "      <th>Team_2_U.A.E.</th>\n",
       "      <th>Team_2_West Indies</th>\n",
       "      <th>Team_2_Zimbabwe</th>\n",
       "    </tr>\n",
       "  </thead>\n",
       "  <tbody>\n",
       "    <tr>\n",
       "      <th>0</th>\n",
       "      <td>Sri Lanka</td>\n",
       "      <td>0</td>\n",
       "      <td>0</td>\n",
       "      <td>1</td>\n",
       "      <td>0</td>\n",
       "      <td>0</td>\n",
       "      <td>0</td>\n",
       "      <td>0</td>\n",
       "      <td>0</td>\n",
       "      <td>0</td>\n",
       "      <td>...</td>\n",
       "      <td>0</td>\n",
       "      <td>0</td>\n",
       "      <td>0</td>\n",
       "      <td>0</td>\n",
       "      <td>0</td>\n",
       "      <td>0</td>\n",
       "      <td>1</td>\n",
       "      <td>0</td>\n",
       "      <td>0</td>\n",
       "      <td>0</td>\n",
       "    </tr>\n",
       "    <tr>\n",
       "      <th>1</th>\n",
       "      <td>Sri Lanka</td>\n",
       "      <td>0</td>\n",
       "      <td>0</td>\n",
       "      <td>0</td>\n",
       "      <td>0</td>\n",
       "      <td>0</td>\n",
       "      <td>0</td>\n",
       "      <td>1</td>\n",
       "      <td>0</td>\n",
       "      <td>0</td>\n",
       "      <td>...</td>\n",
       "      <td>0</td>\n",
       "      <td>0</td>\n",
       "      <td>0</td>\n",
       "      <td>0</td>\n",
       "      <td>0</td>\n",
       "      <td>0</td>\n",
       "      <td>1</td>\n",
       "      <td>0</td>\n",
       "      <td>0</td>\n",
       "      <td>0</td>\n",
       "    </tr>\n",
       "    <tr>\n",
       "      <th>2</th>\n",
       "      <td>India</td>\n",
       "      <td>0</td>\n",
       "      <td>0</td>\n",
       "      <td>1</td>\n",
       "      <td>0</td>\n",
       "      <td>0</td>\n",
       "      <td>0</td>\n",
       "      <td>0</td>\n",
       "      <td>0</td>\n",
       "      <td>0</td>\n",
       "      <td>...</td>\n",
       "      <td>0</td>\n",
       "      <td>0</td>\n",
       "      <td>0</td>\n",
       "      <td>0</td>\n",
       "      <td>0</td>\n",
       "      <td>0</td>\n",
       "      <td>0</td>\n",
       "      <td>0</td>\n",
       "      <td>0</td>\n",
       "      <td>0</td>\n",
       "    </tr>\n",
       "    <tr>\n",
       "      <th>3</th>\n",
       "      <td>Sri Lanka</td>\n",
       "      <td>0</td>\n",
       "      <td>0</td>\n",
       "      <td>1</td>\n",
       "      <td>0</td>\n",
       "      <td>0</td>\n",
       "      <td>0</td>\n",
       "      <td>0</td>\n",
       "      <td>0</td>\n",
       "      <td>0</td>\n",
       "      <td>...</td>\n",
       "      <td>0</td>\n",
       "      <td>0</td>\n",
       "      <td>0</td>\n",
       "      <td>0</td>\n",
       "      <td>0</td>\n",
       "      <td>0</td>\n",
       "      <td>1</td>\n",
       "      <td>0</td>\n",
       "      <td>0</td>\n",
       "      <td>0</td>\n",
       "    </tr>\n",
       "    <tr>\n",
       "      <th>4</th>\n",
       "      <td>India</td>\n",
       "      <td>0</td>\n",
       "      <td>0</td>\n",
       "      <td>0</td>\n",
       "      <td>0</td>\n",
       "      <td>0</td>\n",
       "      <td>0</td>\n",
       "      <td>1</td>\n",
       "      <td>0</td>\n",
       "      <td>0</td>\n",
       "      <td>...</td>\n",
       "      <td>0</td>\n",
       "      <td>0</td>\n",
       "      <td>0</td>\n",
       "      <td>0</td>\n",
       "      <td>0</td>\n",
       "      <td>0</td>\n",
       "      <td>1</td>\n",
       "      <td>0</td>\n",
       "      <td>0</td>\n",
       "      <td>0</td>\n",
       "    </tr>\n",
       "  </tbody>\n",
       "</table>\n",
       "<p>5 rows × 39 columns</p>\n",
       "</div>"
      ],
      "text/plain": [
       "      Winner  Team_1_Afghanistan  Team_1_Australia  Team_1_Bangladesh  \\\n",
       "0  Sri Lanka                   0                 0                  1   \n",
       "1  Sri Lanka                   0                 0                  0   \n",
       "2      India                   0                 0                  1   \n",
       "3  Sri Lanka                   0                 0                  1   \n",
       "4      India                   0                 0                  0   \n",
       "\n",
       "   Team_1_Canada  Team_1_England  Team_1_Hong Kong  Team_1_India  \\\n",
       "0              0               0                 0             0   \n",
       "1              0               0                 0             1   \n",
       "2              0               0                 0             0   \n",
       "3              0               0                 0             0   \n",
       "4              0               0                 0             1   \n",
       "\n",
       "   Team_1_Ireland  Team_1_Kenya  ...  Team_2_Netherlands  Team_2_New Zealand  \\\n",
       "0               0             0  ...                   0                   0   \n",
       "1               0             0  ...                   0                   0   \n",
       "2               0             0  ...                   0                   0   \n",
       "3               0             0  ...                   0                   0   \n",
       "4               0             0  ...                   0                   0   \n",
       "\n",
       "   Team_2_P.N.G.  Team_2_Pakistan  Team_2_Scotland  Team_2_South Africa  \\\n",
       "0              0                0                0                    0   \n",
       "1              0                0                0                    0   \n",
       "2              0                0                0                    0   \n",
       "3              0                0                0                    0   \n",
       "4              0                0                0                    0   \n",
       "\n",
       "   Team_2_Sri Lanka  Team_2_U.A.E.  Team_2_West Indies  Team_2_Zimbabwe  \n",
       "0                 1              0                   0                0  \n",
       "1                 1              0                   0                0  \n",
       "2                 0              0                   0                0  \n",
       "3                 1              0                   0                0  \n",
       "4                 1              0                   0                0  \n",
       "\n",
       "[5 rows x 39 columns]"
      ]
     },
     "execution_count": 6,
     "metadata": {},
     "output_type": "execute_result"
    }
   ],
   "source": [
    "final.head()\n"
   ]
  },
  {
   "cell_type": "code",
   "execution_count": 7,
   "metadata": {},
   "outputs": [
    {
     "data": {
      "text/plain": [
       "RandomForestClassifier(bootstrap=True, ccp_alpha=0.0, class_weight=None,\n",
       "                       criterion='gini', max_depth=20, max_features='auto',\n",
       "                       max_leaf_nodes=None, max_samples=None,\n",
       "                       min_impurity_decrease=0.0, min_impurity_split=None,\n",
       "                       min_samples_leaf=1, min_samples_split=2,\n",
       "                       min_weight_fraction_leaf=0.0, n_estimators=100,\n",
       "                       n_jobs=None, oob_score=False, random_state=0, verbose=0,\n",
       "                       warm_start=False)"
      ]
     },
     "execution_count": 7,
     "metadata": {},
     "output_type": "execute_result"
    }
   ],
   "source": [
    "rf = RandomForestClassifier(n_estimators=100, max_depth=20,\n",
    "                              random_state=0)\n",
    "rf.fit(X_train, y_train) \n"
   ]
  },
  {
   "cell_type": "code",
   "execution_count": 8,
   "metadata": {},
   "outputs": [],
   "source": [
    "fixtures = pd.read_csv('C:/Users/Sachin Mishra/Desktop/fixtures.csv')"
   ]
  },
  {
   "cell_type": "code",
   "execution_count": 9,
   "metadata": {},
   "outputs": [],
   "source": [
    "matches=[]"
   ]
  },
  {
   "cell_type": "code",
   "execution_count": 10,
   "metadata": {},
   "outputs": [],
   "source": [
    "for index, row in fixtures.iterrows():\n",
    "    matches.append({'Team_1': row['Team_1'], 'Team_2': row['Team_2'], 'winning_team': None})"
   ]
  },
  {
   "cell_type": "code",
   "execution_count": 11,
   "metadata": {},
   "outputs": [],
   "source": [
    "matches=pd.DataFrame(matches)\n",
    "backup_pred_set = matches"
   ]
  },
  {
   "cell_type": "code",
   "execution_count": 12,
   "metadata": {},
   "outputs": [
    {
     "data": {
      "text/html": [
       "<div>\n",
       "<style scoped>\n",
       "    .dataframe tbody tr th:only-of-type {\n",
       "        vertical-align: middle;\n",
       "    }\n",
       "\n",
       "    .dataframe tbody tr th {\n",
       "        vertical-align: top;\n",
       "    }\n",
       "\n",
       "    .dataframe thead th {\n",
       "        text-align: right;\n",
       "    }\n",
       "</style>\n",
       "<table border=\"1\" class=\"dataframe\">\n",
       "  <thead>\n",
       "    <tr style=\"text-align: right;\">\n",
       "      <th></th>\n",
       "      <th>Team_1</th>\n",
       "      <th>Team_2</th>\n",
       "      <th>winning_team</th>\n",
       "    </tr>\n",
       "  </thead>\n",
       "  <tbody>\n",
       "    <tr>\n",
       "      <th>0</th>\n",
       "      <td>England</td>\n",
       "      <td>South Africa</td>\n",
       "      <td>None</td>\n",
       "    </tr>\n",
       "    <tr>\n",
       "      <th>1</th>\n",
       "      <td>West Indies</td>\n",
       "      <td>Pakistan</td>\n",
       "      <td>None</td>\n",
       "    </tr>\n",
       "    <tr>\n",
       "      <th>2</th>\n",
       "      <td>New Zealand</td>\n",
       "      <td>Sri Lanka</td>\n",
       "      <td>None</td>\n",
       "    </tr>\n",
       "    <tr>\n",
       "      <th>3</th>\n",
       "      <td>Afghanistan</td>\n",
       "      <td>Australia</td>\n",
       "      <td>None</td>\n",
       "    </tr>\n",
       "    <tr>\n",
       "      <th>4</th>\n",
       "      <td>South Africa</td>\n",
       "      <td>Bangladesh</td>\n",
       "      <td>None</td>\n",
       "    </tr>\n",
       "  </tbody>\n",
       "</table>\n",
       "</div>"
      ],
      "text/plain": [
       "         Team_1        Team_2 winning_team\n",
       "0       England  South Africa         None\n",
       "1   West Indies      Pakistan         None\n",
       "2   New Zealand     Sri Lanka         None\n",
       "3   Afghanistan     Australia         None\n",
       "4  South Africa    Bangladesh         None"
      ]
     },
     "execution_count": 12,
     "metadata": {},
     "output_type": "execute_result"
    }
   ],
   "source": [
    "backup_pred_set.head()"
   ]
  },
  {
   "cell_type": "code",
   "execution_count": 13,
   "metadata": {},
   "outputs": [],
   "source": [
    "matches=pd.get_dummies(matches, prefix=['Team_1', 'Team_2'], columns=['Team_1', 'Team_2'])"
   ]
  },
  {
   "cell_type": "code",
   "execution_count": 14,
   "metadata": {},
   "outputs": [
    {
     "data": {
      "text/html": [
       "<div>\n",
       "<style scoped>\n",
       "    .dataframe tbody tr th:only-of-type {\n",
       "        vertical-align: middle;\n",
       "    }\n",
       "\n",
       "    .dataframe tbody tr th {\n",
       "        vertical-align: top;\n",
       "    }\n",
       "\n",
       "    .dataframe thead th {\n",
       "        text-align: right;\n",
       "    }\n",
       "</style>\n",
       "<table border=\"1\" class=\"dataframe\">\n",
       "  <thead>\n",
       "    <tr style=\"text-align: right;\">\n",
       "      <th></th>\n",
       "      <th>winning_team</th>\n",
       "      <th>Team_1_Afghanistan</th>\n",
       "      <th>Team_1_Australia</th>\n",
       "      <th>Team_1_Bangladesh</th>\n",
       "      <th>Team_1_England</th>\n",
       "      <th>Team_1_India</th>\n",
       "      <th>Team_1_New Zealand</th>\n",
       "      <th>Team_1_Pakistan</th>\n",
       "      <th>Team_1_South Africa</th>\n",
       "      <th>Team_1_Sri Lanka</th>\n",
       "      <th>...</th>\n",
       "      <th>Team_2_Afghanistan</th>\n",
       "      <th>Team_2_Australia</th>\n",
       "      <th>Team_2_Bangladesh</th>\n",
       "      <th>Team_2_India</th>\n",
       "      <th>Team_2_New Zealand</th>\n",
       "      <th>Team_2_Pakistan</th>\n",
       "      <th>Team_2_South Africa</th>\n",
       "      <th>Team_2_Sri Lanka</th>\n",
       "      <th>Team_2_To be announced</th>\n",
       "      <th>Team_2_West Indies</th>\n",
       "    </tr>\n",
       "  </thead>\n",
       "  <tbody>\n",
       "    <tr>\n",
       "      <th>0</th>\n",
       "      <td>None</td>\n",
       "      <td>0</td>\n",
       "      <td>0</td>\n",
       "      <td>0</td>\n",
       "      <td>1</td>\n",
       "      <td>0</td>\n",
       "      <td>0</td>\n",
       "      <td>0</td>\n",
       "      <td>0</td>\n",
       "      <td>0</td>\n",
       "      <td>...</td>\n",
       "      <td>0</td>\n",
       "      <td>0</td>\n",
       "      <td>0</td>\n",
       "      <td>0</td>\n",
       "      <td>0</td>\n",
       "      <td>0</td>\n",
       "      <td>1</td>\n",
       "      <td>0</td>\n",
       "      <td>0</td>\n",
       "      <td>0</td>\n",
       "    </tr>\n",
       "    <tr>\n",
       "      <th>1</th>\n",
       "      <td>None</td>\n",
       "      <td>0</td>\n",
       "      <td>0</td>\n",
       "      <td>0</td>\n",
       "      <td>0</td>\n",
       "      <td>0</td>\n",
       "      <td>0</td>\n",
       "      <td>0</td>\n",
       "      <td>0</td>\n",
       "      <td>0</td>\n",
       "      <td>...</td>\n",
       "      <td>0</td>\n",
       "      <td>0</td>\n",
       "      <td>0</td>\n",
       "      <td>0</td>\n",
       "      <td>0</td>\n",
       "      <td>1</td>\n",
       "      <td>0</td>\n",
       "      <td>0</td>\n",
       "      <td>0</td>\n",
       "      <td>0</td>\n",
       "    </tr>\n",
       "    <tr>\n",
       "      <th>2</th>\n",
       "      <td>None</td>\n",
       "      <td>0</td>\n",
       "      <td>0</td>\n",
       "      <td>0</td>\n",
       "      <td>0</td>\n",
       "      <td>0</td>\n",
       "      <td>1</td>\n",
       "      <td>0</td>\n",
       "      <td>0</td>\n",
       "      <td>0</td>\n",
       "      <td>...</td>\n",
       "      <td>0</td>\n",
       "      <td>0</td>\n",
       "      <td>0</td>\n",
       "      <td>0</td>\n",
       "      <td>0</td>\n",
       "      <td>0</td>\n",
       "      <td>0</td>\n",
       "      <td>1</td>\n",
       "      <td>0</td>\n",
       "      <td>0</td>\n",
       "    </tr>\n",
       "    <tr>\n",
       "      <th>3</th>\n",
       "      <td>None</td>\n",
       "      <td>1</td>\n",
       "      <td>0</td>\n",
       "      <td>0</td>\n",
       "      <td>0</td>\n",
       "      <td>0</td>\n",
       "      <td>0</td>\n",
       "      <td>0</td>\n",
       "      <td>0</td>\n",
       "      <td>0</td>\n",
       "      <td>...</td>\n",
       "      <td>0</td>\n",
       "      <td>1</td>\n",
       "      <td>0</td>\n",
       "      <td>0</td>\n",
       "      <td>0</td>\n",
       "      <td>0</td>\n",
       "      <td>0</td>\n",
       "      <td>0</td>\n",
       "      <td>0</td>\n",
       "      <td>0</td>\n",
       "    </tr>\n",
       "    <tr>\n",
       "      <th>4</th>\n",
       "      <td>None</td>\n",
       "      <td>0</td>\n",
       "      <td>0</td>\n",
       "      <td>0</td>\n",
       "      <td>0</td>\n",
       "      <td>0</td>\n",
       "      <td>0</td>\n",
       "      <td>0</td>\n",
       "      <td>1</td>\n",
       "      <td>0</td>\n",
       "      <td>...</td>\n",
       "      <td>0</td>\n",
       "      <td>0</td>\n",
       "      <td>1</td>\n",
       "      <td>0</td>\n",
       "      <td>0</td>\n",
       "      <td>0</td>\n",
       "      <td>0</td>\n",
       "      <td>0</td>\n",
       "      <td>0</td>\n",
       "      <td>0</td>\n",
       "    </tr>\n",
       "  </tbody>\n",
       "</table>\n",
       "<p>5 rows × 22 columns</p>\n",
       "</div>"
      ],
      "text/plain": [
       "  winning_team  Team_1_Afghanistan  Team_1_Australia  Team_1_Bangladesh  \\\n",
       "0         None                   0                 0                  0   \n",
       "1         None                   0                 0                  0   \n",
       "2         None                   0                 0                  0   \n",
       "3         None                   1                 0                  0   \n",
       "4         None                   0                 0                  0   \n",
       "\n",
       "   Team_1_England  Team_1_India  Team_1_New Zealand  Team_1_Pakistan  \\\n",
       "0               1             0                   0                0   \n",
       "1               0             0                   0                0   \n",
       "2               0             0                   1                0   \n",
       "3               0             0                   0                0   \n",
       "4               0             0                   0                0   \n",
       "\n",
       "   Team_1_South Africa  Team_1_Sri Lanka  ...  Team_2_Afghanistan  \\\n",
       "0                    0                 0  ...                   0   \n",
       "1                    0                 0  ...                   0   \n",
       "2                    0                 0  ...                   0   \n",
       "3                    0                 0  ...                   0   \n",
       "4                    1                 0  ...                   0   \n",
       "\n",
       "   Team_2_Australia  Team_2_Bangladesh  Team_2_India  Team_2_New Zealand  \\\n",
       "0                 0                  0             0                   0   \n",
       "1                 0                  0             0                   0   \n",
       "2                 0                  0             0                   0   \n",
       "3                 1                  0             0                   0   \n",
       "4                 0                  1             0                   0   \n",
       "\n",
       "   Team_2_Pakistan  Team_2_South Africa  Team_2_Sri Lanka  \\\n",
       "0                0                    1                 0   \n",
       "1                1                    0                 0   \n",
       "2                0                    0                 1   \n",
       "3                0                    0                 0   \n",
       "4                0                    0                 0   \n",
       "\n",
       "   Team_2_To be announced  Team_2_West Indies  \n",
       "0                       0                   0  \n",
       "1                       0                   0  \n",
       "2                       0                   0  \n",
       "3                       0                   0  \n",
       "4                       0                   0  \n",
       "\n",
       "[5 rows x 22 columns]"
      ]
     },
     "execution_count": 14,
     "metadata": {},
     "output_type": "execute_result"
    }
   ],
   "source": [
    "matches.head()"
   ]
  },
  {
   "cell_type": "code",
   "execution_count": 15,
   "metadata": {},
   "outputs": [],
   "source": [
    "matches=matches.drop(['winning_team'], axis=1)"
   ]
  },
  {
   "cell_type": "code",
   "execution_count": 16,
   "metadata": {},
   "outputs": [],
   "source": [
    "pred_set=matches"
   ]
  },
  {
   "cell_type": "code",
   "execution_count": 17,
   "metadata": {},
   "outputs": [],
   "source": [
    "missing_cols = set(final.columns) - set(pred_set.columns)\n",
    "for c in missing_cols:\n",
    "    pred_set[c] = 0\n",
    "pred_set = pred_set[final.columns]"
   ]
  },
  {
   "cell_type": "code",
   "execution_count": 18,
   "metadata": {},
   "outputs": [],
   "source": [
    "pred_set = pred_set.drop(['Winner'], axis=1)\n"
   ]
  },
  {
   "cell_type": "code",
   "execution_count": 19,
   "metadata": {},
   "outputs": [
    {
     "name": "stdout",
     "output_type": "stream",
     "text": [
      "['England' 'Pakistan' 'New Zealand' 'Australia' 'South Africa' 'England'\n",
      " 'Sri Lanka' 'South Africa' 'Bangladesh' 'Australia' 'Pakistan' 'England'\n",
      " 'Afghanistan' 'India' 'South Africa' 'Sri Lanka' 'Australia' 'India'\n",
      " 'England' 'Australia' 'South Africa' 'India' 'West Indies' 'England'\n",
      " 'South Africa' 'Australia' 'England' 'India' 'West Indies' 'South Africa'\n",
      " 'Bangladesh' 'England' 'New Zealand' 'India' 'Sri Lanka' 'Pakistan'\n",
      " 'Australia' 'England' 'Sri Lanka' 'India' 'England' 'Afghanistan'\n",
      " 'Pakistan' 'India' 'South Africa' 'Ireland' 'Ireland' 'Ireland']\n"
     ]
    }
   ],
   "source": [
    "predictions = rf.predict(pred_set)\n",
    "print(predictions)"
   ]
  },
  {
   "cell_type": "code",
   "execution_count": 20,
   "metadata": {},
   "outputs": [
    {
     "name": "stdout",
     "output_type": "stream",
     "text": [
      "[4, 7, 2, 6, 7, 2, 4, 2, 3, 9]\n"
     ]
    }
   ],
   "source": [
    "eng=np.count_nonzero(predictions == 'England')\n",
    "pak=np.count_nonzero(predictions == 'Pakistan')\n",
    "\n",
    "ind=np.count_nonzero(predictions == 'India')\n",
    "aus=np.count_nonzero(predictions == 'Australia')\n",
    "sa=np.count_nonzero(predictions == 'South Africa')\n",
    "ban=np.count_nonzero(predictions == 'Bangladesh')\n",
    "sl=np.count_nonzero(predictions == 'Sri Lanka')\n",
    "irel=np.count_nonzero(predictions == 'Ireland')\n",
    "nz=np.count_nonzero(predictions == 'New Zealand')\n",
    "wi=np.count_nonzero(predictions == 'West Indies')\n",
    "fin=[pak,ind,nz,aus,sa,ban,sl,wi,irel,eng]\n",
    "name=[\"pak\",\"ind\",\"nz\",\"aus\",\"sa\",\"ban\",\"sl\",\"wi\",\"irel\",\"eng\"]\n",
    "print(fin)"
   ]
  },
  {
   "cell_type": "code",
   "execution_count": 21,
   "metadata": {},
   "outputs": [],
   "source": [
    "for i in range(len(fin)): \n",
    "      \n",
    "    # Find the minimum element in remaining  \n",
    "    # unsorted array \n",
    "    min_idx = i \n",
    "    for j in range(i+1, len(fin)): \n",
    "        if fin[min_idx] < fin[j]: \n",
    "            min_idx = j \n",
    "              \n",
    "    # Swap the found minimum element with  \n",
    "    # the first element    \n",
    "    name[i],name[min_idx]=name[min_idx],name[i]\n",
    "    fin[i], fin[min_idx] = fin[min_idx], fin[i] "
   ]
  },
  {
   "cell_type": "code",
   "execution_count": 22,
   "metadata": {},
   "outputs": [
    {
     "name": "stdout",
     "output_type": "stream",
     "text": [
      "RANK        TEAM        POINTS\n",
      "1        eng        18         \n",
      "\n",
      "2        ind        14         \n",
      "\n",
      "3        sa        14         \n",
      "\n",
      "4        aus        12         \n",
      "\n",
      "5        sl        8         \n",
      "\n",
      "6        pak        8         \n",
      "\n",
      "7        irel        6         \n",
      "\n",
      "8        wi        4         \n",
      "\n",
      "9        nz        4         \n",
      "\n",
      "10        ban        4         \n",
      "\n"
     ]
    }
   ],
   "source": [
    "print(\"RANK        TEAM        POINTS\")\n",
    "for x in range(len(name)):\n",
    "    print(x+1,end=\"        \")\n",
    "    print(name[x], end=\"        \")\n",
    "  \n",
    "    print(fin[x]*2,end=\"         \")\n",
    "    print(\"\\n\")"
   ]
  },
  {
   "cell_type": "code",
   "execution_count": 23,
   "metadata": {},
   "outputs": [],
   "source": [
    "# Semi Finalists are ENGLAND,INDIA,SOUTH AFRICA and AUSTRALIA.\n",
    "#SF1=ENG vs SA\n",
    "#SF2=IND vs AUS"
   ]
  },
  {
   "cell_type": "code",
   "execution_count": 99,
   "metadata": {},
   "outputs": [
    {
     "data": {
      "text/plain": [
       "Index(['Team_1_Afghanistan', 'Team_1_Australia', 'Team_1_Bangladesh',\n",
       "       'Team_1_Canada', 'Team_1_England', 'Team_1_Hong Kong', 'Team_1_India',\n",
       "       'Team_1_Ireland', 'Team_1_Kenya', 'Team_1_Netherlands',\n",
       "       'Team_1_New Zealand', 'Team_1_P.N.G.', 'Team_1_Pakistan',\n",
       "       'Team_1_Scotland', 'Team_1_South Africa', 'Team_1_Sri Lanka',\n",
       "       'Team_1_U.A.E.', 'Team_1_West Indies', 'Team_1_Zimbabwe',\n",
       "       'Team_2_Afghanistan', 'Team_2_Australia', 'Team_2_Bangladesh',\n",
       "       'Team_2_Canada', 'Team_2_England', 'Team_2_Hong Kong', 'Team_2_India',\n",
       "       'Team_2_Ireland', 'Team_2_Kenya', 'Team_2_Netherlands',\n",
       "       'Team_2_New Zealand', 'Team_2_P.N.G.', 'Team_2_Pakistan',\n",
       "       'Team_2_Scotland', 'Team_2_South Africa', 'Team_2_Sri Lanka',\n",
       "       'Team_2_U.A.E.', 'Team_2_West Indies', 'Team_2_Zimbabwe'],\n",
       "      dtype='object')"
      ]
     },
     "execution_count": 99,
     "metadata": {},
     "output_type": "execute_result"
    }
   ],
   "source": [
    "X_train.columns"
   ]
  },
  {
   "cell_type": "code",
   "execution_count": 95,
   "metadata": {},
   "outputs": [
    {
     "name": "stdout",
     "output_type": "stream",
     "text": [
      "['England']\n"
     ]
    }
   ],
   "source": [
    "sf1=[[0,1,0,0,0,0,0,0,0,0,0,0,0,0,0,0,0,0,0,0,0,0,0,0,0,0,00,00,0,0,0,0,0,0,0,00,00,0]]\n",
    "i=0\n",
    "chk=0\n",
    "for x in X_train.columns:\n",
    "    if(x=='Team_1_England' or x=='Team_2_South Africa'):\n",
    "        sf1[0][i]=1\n",
    "        if(x=='Team_1_India'):\n",
    "            chk=i\n",
    "    i=i+1\n",
    "\n",
    "ressf1=rf.predict(sf1)\n",
    "print(ressf1)\n",
    "\n",
    "\n"
   ]
  },
  {
   "cell_type": "code",
   "execution_count": 96,
   "metadata": {},
   "outputs": [
    {
     "name": "stdout",
     "output_type": "stream",
     "text": [
      "['India']\n"
     ]
    }
   ],
   "source": [
    "sf2=[[0,0,0,0,0,0,1,0,0,0,0,0,0,0,0,0,0,0,0,0,1,0,0,0,0,0,0,00,0,0,0,00,0,0,0,0,0,0]]\n",
    "rsf2=rf.predict(sf2)\n",
    "print(rsf2)"
   ]
  },
  {
   "cell_type": "code",
   "execution_count": 97,
   "metadata": {},
   "outputs": [
    {
     "name": "stdout",
     "output_type": "stream",
     "text": [
      "FINALIS OF 2019 world cup are INDIA & ENGLAND\n"
     ]
    }
   ],
   "source": [
    "print(\"FINALIS OF 2019 world cup are INDIA & ENGLAND\")"
   ]
  },
  {
   "cell_type": "code",
   "execution_count": 101,
   "metadata": {},
   "outputs": [
    {
     "name": "stdout",
     "output_type": "stream",
     "text": [
      "The world Cup 2019 winner is\n",
      "['England']\n"
     ]
    }
   ],
   "source": [
    "findataset=[[0,0,0,0,0,0,0,0,0,0,0,0,0,0,0,0,0,0,0,0,0,0,0,0,0,0,00,00,0,0,0,0,0,0,0,00,00,0]]\n",
    "i=0\n",
    "chk=0\n",
    "for x in X_train.columns:\n",
    "    if(x=='Team_1_England' or x=='Team_2_India'):\n",
    "        findataset[0][i]=1\n",
    "        \n",
    "    i=i+1\n",
    "\n",
    "ressf=rf.predict(findataset)\n",
    "print(\"The world Cup 2019 winner is\")\n",
    "print(ressf)\n"
   ]
  },
  {
   "cell_type": "code",
   "execution_count": 105,
   "metadata": {},
   "outputs": [
    {
     "data": {
      "image/png": "[encoded data removed]",
      "text/plain": [
       "<Figure size 432x288 with 1 Axes>"
      ]
     },
     "metadata": {
      "needs_background": "light"
     },
     "output_type": "display_data"
    }
   ],
   "source": [
    "plt.plot(name,fin,'ro')\n",
    "plt.title(\"THE standings of WC 2019 are \")\n",
    "plt.show()\n"
   ]
  },
  {
   "cell_type": "code",
   "execution_count": null,
   "metadata": {},
   "outputs": [],
   "source": []
  }
 ],
 "metadata": {
  "kernelspec": {
   "display_name": "Python 3",
   "language": "python",
   "name": "python3"
  },
  "language_info": {
   "codemirror_mode": {
    "name": "ipython",
    "version": 3
   },
   "file_extension": ".py",
   "mimetype": "text/x-python",
   "name": "python",
   "nbconvert_exporter": "python",
   "pygments_lexer": "ipython3",
   "version": "3.7.6"
  }
 },
 "nbformat": 4,
 "nbformat_minor": 4
}
